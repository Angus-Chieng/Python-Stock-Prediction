{
  "nbformat": 4,
  "nbformat_minor": 0,
  "metadata": {
    "colab": {
      "name": "AMZN Stock Prediction.ipynb",
      "provenance": []
    },
    "kernelspec": {
      "name": "python3",
      "display_name": "Python 3"
    },
    "language_info": {
      "name": "python"
    }
  },
  "cells": [
    {
      "cell_type": "code",
      "execution_count": null,
      "metadata": {
        "id": "as0KXQmgwJvl"
      },
      "outputs": [],
      "source": [
        "#Import the Libraries\n",
        "import math\n",
        "import numpy as np \n",
        "import pandas as pd\n",
        "import pandas_datareader as pdr\n",
        "import yfinance as yfin\n",
        "yfin.pdr_override()\n",
        "\n",
        "from sklearn.preprocessing import MinMaxScaler\n",
        "from keras.models import Sequential\n",
        "from keras.layers import Dense, LSTM\n",
        "import matplotlib.pyplot as plt\n",
        "plt.style.use ('fivethirtyeight')"
      ]
    },
    {
      "cell_type": "code",
      "source": [
        "#Starting and ending date of the dataset\n",
        "start_date = \"2012-06-01\"\n",
        "end_date = \"2022-06-12\""
      ],
      "metadata": {
        "id": "-0ZLofB4Htuk"
      },
      "execution_count": null,
      "outputs": []
    },
    {
      "cell_type": "code",
      "source": [
        "#Get the Stock Quotes\n",
        "\n",
        "data = pdr.DataReader(name=\"AMZN\", data_source='yahoo', start=start_date, end=end_date)\n",
        "\n",
        "#Show the data \n",
        "print(data)"
      ],
      "metadata": {
        "id": "mBsHYqkv8S6o"
      },
      "execution_count": null,
      "outputs": []
    },
    {
      "cell_type": "code",
      "source": [
        "#Get the number of rows and columns in the data set\n",
        "print(data.shape)"
      ],
      "metadata": {
        "id": "ZGGovOcKJI30"
      },
      "execution_count": null,
      "outputs": []
    },
    {
      "cell_type": "code",
      "source": [
        "#Visualisation of the history of closing prices\n",
        "plt.figure(figsize = (16,8))\n",
        "plt.title('Close Price History')\n",
        "plt.plot(data['Close'])\n",
        "plt.xlabel ('Date', fontsize = 18)\n",
        "plt.ylabel('Close Price USD ($)', fontsize =18)\n",
        "plt.show()"
      ],
      "metadata": {
        "id": "6AdFv_hfJW8o"
      },
      "execution_count": null,
      "outputs": []
    },
    {
      "cell_type": "code",
      "source": [
        "#Create a new data frame with only the 'Close Column'\n",
        "data2 = data.filter(['Close'])\n",
        "\n",
        "#Convert dataframe to numpy array \n",
        "dataset = data2.values\n",
        "\n",
        "#Get the number of rows to train the model on \n",
        "training_data_len = math.ceil (len(dataset) * .8)\n",
        "print (training_data_len)"
      ],
      "metadata": {
        "id": "ynTIdn00Jyct"
      },
      "execution_count": null,
      "outputs": []
    },
    {
      "cell_type": "code",
      "source": [
        "#Data Scaling\n",
        "scaler = MinMaxScaler(feature_range = (0,1))\n",
        "scaled_data = scaler.fit_transform(dataset)\n",
        "print(scaled_data)"
      ],
      "metadata": {
        "id": "l06CWLkIQEOm"
      },
      "execution_count": null,
      "outputs": []
    },
    {
      "cell_type": "code",
      "source": [
        "#Create scaled training Data Set\n",
        "train_data = scaled_data[0:training_data_len, :]\n",
        "\n",
        "#Split the data into x_train and y_train\n",
        "x_train = []\n",
        "y_train = []\n",
        "\n",
        "for i in range (60, len(train_data)):\n",
        "  x_train.append(train_data[i-60:i, 0])\n",
        "  y_train.append(train_data[i, 0])\n",
        "  if i<= 60:\n",
        "    print(x_train)\n",
        "    print(y_train)\n",
        "    print()"
      ],
      "metadata": {
        "id": "A4a3wxElQZJP"
      },
      "execution_count": null,
      "outputs": []
    },
    {
      "cell_type": "code",
      "source": [
        "#Convert x_train and y_train into Numpy Arrays\n",
        "x_train, y_train = np.array(x_train), np.array(y_train)"
      ],
      "metadata": {
        "id": "d0x97O_jQsQB"
      },
      "execution_count": null,
      "outputs": []
    },
    {
      "cell_type": "code",
      "source": [
        "#Data Reshaping\n",
        "x_train = np.reshape (x_train, (x_train.shape[0], x_train.shape[1], 1)) \n",
        "print(x_train.shape)"
      ],
      "metadata": {
        "id": "XuNd1z6AUNHL"
      },
      "execution_count": null,
      "outputs": []
    },
    {
      "cell_type": "code",
      "source": [
        "#Building the LSTM Model\n",
        "\n",
        "model = Sequential ()\n",
        "model.add(LSTM(50, return_sequences=True , input_shape = (x_train.shape[1], 1)))\n",
        "model.add(LSTM(50, return_sequences= False))\n",
        "model.add(Dense(25))\n",
        "model.add(Dense(1))"
      ],
      "metadata": {
        "id": "3ncMADhsUpz6"
      },
      "execution_count": null,
      "outputs": []
    },
    {
      "cell_type": "code",
      "source": [
        "#Model Compilation\n",
        "model.compile(optimizer = 'adam', loss = 'mean_squared_error')"
      ],
      "metadata": {
        "id": "5ajSTiZVVfaB"
      },
      "execution_count": null,
      "outputs": []
    },
    {
      "cell_type": "code",
      "source": [
        "#Training the Model\n",
        "model.fit(x_train, y_train, batch_size = 1 , epochs = 1)"
      ],
      "metadata": {
        "id": "sLsnFh2ZVv1t"
      },
      "execution_count": null,
      "outputs": []
    },
    {
      "cell_type": "code",
      "source": [
        "#Create a testrun dataset\n",
        "#Create a new array containing scaled values from index 1960 to 2560\n",
        "test_data = scaled_data[training_data_len -60:, :]\n",
        "#Create new testrun data sets\n",
        "x_test = []\n",
        "y_test = dataset[training_data_len:, :]\n",
        "for i in range (60, len(test_data)):\n",
        "  x_test.append(test_data[i-60:i,0])\n"
      ],
      "metadata": {
        "id": "rKsdoDuuWHIl"
      },
      "execution_count": null,
      "outputs": []
    },
    {
      "cell_type": "code",
      "source": [
        "#Convert data into a numpy array\n",
        "x_test = np.array (x_test)"
      ],
      "metadata": {
        "id": "mDLdKfPjXP4m"
      },
      "execution_count": null,
      "outputs": []
    },
    {
      "cell_type": "code",
      "source": [
        "#Reshape the Data\n",
        "x_test = np.reshape (x_test, (x_test.shape[0], x_test.shape[1], 1))"
      ],
      "metadata": {
        "id": "TyQZUXmsXZxP"
      },
      "execution_count": null,
      "outputs": []
    },
    {
      "cell_type": "code",
      "source": [
        "#Get the Model's predicted price values\n",
        "predictions = model.predict(x_test)\n",
        "predictions = scaler.inverse_transform(predictions)"
      ],
      "metadata": {
        "id": "SkAWbFXGXp0q"
      },
      "execution_count": null,
      "outputs": []
    },
    {
      "cell_type": "code",
      "source": [
        "#Get the Root Mean Squared Error (RMSE)\n",
        "rmse = np.sqrt(np.mean (predictions - y_test)**2)\n",
        "print (rmse)"
      ],
      "metadata": {
        "id": "e_5SDiOfX-oQ"
      },
      "execution_count": null,
      "outputs": []
    },
    {
      "cell_type": "code",
      "source": [
        "#Data Plotting\n",
        "train = data [:training_data_len]\n",
        "valid = data[training_data_len:]\n",
        "valid['Predictions'] = predictions\n",
        "\n",
        "#Data visualisation \n",
        "plt.figure(figsize =  (16,8))\n",
        "plt.title('Model')\n",
        "plt.xlabel('Date', fontsize = 18)\n",
        "plt.ylabel('Close Price USD ($)', fontsize = 18)\n",
        "plt.plot(train['Close'])\n",
        "plt.plot(valid[['Close', 'Predictions']])\n",
        "plt.legend(['Train', 'Val', 'Predictions'], loc = 'lower right')\n",
        "plt.show()"
      ],
      "metadata": {
        "id": "i3PPXZ2_YRUG"
      },
      "execution_count": null,
      "outputs": []
    },
    {
      "cell_type": "code",
      "source": [
        "#Show the valid and predicted prices\n",
        "print (valid)"
      ],
      "metadata": {
        "id": "_m4DSKdoZ1aQ"
      },
      "execution_count": null,
      "outputs": []
    },
    {
      "cell_type": "code",
      "source": [
        "#Getting the quote\n",
        "amazon_quote = pdr.DataReader('AMZN', data_source = 'yahoo', start = '2016-01-01', end = '2022-06-12')\n",
        "\n",
        "#Create a new Data Frame\n",
        "new_df = amazon_quote.filter(['Close'])\n",
        "\n",
        "#Get the last 60 days closing price values and convert the dataframe to an array\n",
        "last_60_days = new_df[-60:].values\n",
        "\n",
        "#Scale the data to be 1 and 0 \n",
        "last_60_days_scaled = scaler.transform(last_60_days)\n",
        "\n",
        "#Create an empty list\n",
        "X_test = []\n",
        "\n",
        "#Append the past 60 days\n",
        "X_test.append(last_60_days_scaled)\n",
        "\n",
        "#Convert the X_test data to a numpy array\n",
        "X_test = np.array(X_test)\n",
        "\n",
        "#Data Reshaping\n",
        "X_test = np.reshape (X_test, (X_test.shape [0], X_test.shape[1], 1))\n",
        "\n",
        "#Get the predicted scaled price\n",
        "pred_price = model.predict (X_test)\n",
        "\n",
        "#Undo scaling\n",
        "pred_price = scaler.inverse_transform(pred_price)\n",
        "print(pred_price)\n"
      ],
      "metadata": {
        "id": "hzSh1M5haROt"
      },
      "execution_count": null,
      "outputs": []
    },
    {
      "cell_type": "code",
      "source": [
        "#Getting the quote\n",
        "amazon_quote2 = pdr.DataReader('AMZN', data_source = 'yahoo', start = '2022-06-10', end = '2022-06-10')\n",
        "print (amazon_quote2)"
      ],
      "metadata": {
        "id": "GEeMPe10cX2G"
      },
      "execution_count": null,
      "outputs": []
    }
  ]
}